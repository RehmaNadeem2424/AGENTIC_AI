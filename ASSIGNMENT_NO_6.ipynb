{
  "nbformat": 4,
  "nbformat_minor": 0,
  "metadata": {
    "colab": {
      "provenance": [],
      "authorship_tag": "ABX9TyOVYbLU50tA8ZIjNTvQCYPa",
      "include_colab_link": true
    },
    "kernelspec": {
      "name": "python3",
      "display_name": "Python 3"
    },
    "language_info": {
      "name": "python"
    }
  },
  "cells": [
    {
      "cell_type": "markdown",
      "metadata": {
        "id": "view-in-github",
        "colab_type": "text"
      },
      "source": [
        "<a href=\"https://colab.research.google.com/github/RehmaNadeem2424/AGENTIC_AI/blob/main/ASSIGNMENT_NO_6.ipynb\" target=\"_parent\"><img src=\"https://colab.research.google.com/assets/colab-badge.svg\" alt=\"Open In Colab\"/></a>"
      ]
    },
    {
      "cell_type": "code",
      "execution_count": 28,
      "metadata": {
        "id": "Y11gxRNvn2kX"
      },
      "outputs": [],
      "source": [
        "from google.colab import userdata\n",
        "GEMINI_API_KEY = userdata.get('GOOGLE_API_KEY_4')"
      ]
    },
    {
      "cell_type": "code",
      "source": [
        "!pip install -qU langchain_google_genai"
      ],
      "metadata": {
        "collapsed": true,
        "id": "7BqUlEQ2uhiZ"
      },
      "execution_count": 29,
      "outputs": []
    },
    {
      "cell_type": "code",
      "source": [
        "from langchain_google_genai import ChatGoogleGenerativeAI"
      ],
      "metadata": {
        "id": "mPOMha0Yu95R"
      },
      "execution_count": 30,
      "outputs": []
    },
    {
      "cell_type": "code",
      "source": [
        "llm  = ChatGoogleGenerativeAI(\n",
        "    api_key=GEMINI_API_KEY,\n",
        "    model =\"gemini-2.0-flash-exp\",\n",
        ")"
      ],
      "metadata": {
        "id": "hUf8-g2BvIqQ"
      },
      "execution_count": 31,
      "outputs": []
    },
    {
      "cell_type": "code",
      "source": [
        "from google.colab import files\n",
        "\n",
        "# Upload the video file\n",
        "uploaded = files.upload()\n",
        "\n",
        "# Print the uploaded file names\n",
        "for filename in uploaded.keys():\n",
        "    print(f'Uploaded file: {filename}')"
      ],
      "metadata": {
        "colab": {
          "base_uri": "https://localhost:8080/",
          "height": 91
        },
        "id": "4AnKMFZZw6ht",
        "outputId": "3458e6c9-8374-4073-c83b-adec60881b01"
      },
      "execution_count": 32,
      "outputs": [
        {
          "output_type": "display_data",
          "data": {
            "text/plain": [
              "<IPython.core.display.HTML object>"
            ],
            "text/html": [
              "\n",
              "     <input type=\"file\" id=\"files-81630e94-145b-4b7e-bc19-d80ecb341a1e\" name=\"files[]\" multiple disabled\n",
              "        style=\"border:none\" />\n",
              "     <output id=\"result-81630e94-145b-4b7e-bc19-d80ecb341a1e\">\n",
              "      Upload widget is only available when the cell has been executed in the\n",
              "      current browser session. Please rerun this cell to enable.\n",
              "      </output>\n",
              "      <script>// Copyright 2017 Google LLC\n",
              "//\n",
              "// Licensed under the Apache License, Version 2.0 (the \"License\");\n",
              "// you may not use this file except in compliance with the License.\n",
              "// You may obtain a copy of the License at\n",
              "//\n",
              "//      http://www.apache.org/licenses/LICENSE-2.0\n",
              "//\n",
              "// Unless required by applicable law or agreed to in writing, software\n",
              "// distributed under the License is distributed on an \"AS IS\" BASIS,\n",
              "// WITHOUT WARRANTIES OR CONDITIONS OF ANY KIND, either express or implied.\n",
              "// See the License for the specific language governing permissions and\n",
              "// limitations under the License.\n",
              "\n",
              "/**\n",
              " * @fileoverview Helpers for google.colab Python module.\n",
              " */\n",
              "(function(scope) {\n",
              "function span(text, styleAttributes = {}) {\n",
              "  const element = document.createElement('span');\n",
              "  element.textContent = text;\n",
              "  for (const key of Object.keys(styleAttributes)) {\n",
              "    element.style[key] = styleAttributes[key];\n",
              "  }\n",
              "  return element;\n",
              "}\n",
              "\n",
              "// Max number of bytes which will be uploaded at a time.\n",
              "const MAX_PAYLOAD_SIZE = 100 * 1024;\n",
              "\n",
              "function _uploadFiles(inputId, outputId) {\n",
              "  const steps = uploadFilesStep(inputId, outputId);\n",
              "  const outputElement = document.getElementById(outputId);\n",
              "  // Cache steps on the outputElement to make it available for the next call\n",
              "  // to uploadFilesContinue from Python.\n",
              "  outputElement.steps = steps;\n",
              "\n",
              "  return _uploadFilesContinue(outputId);\n",
              "}\n",
              "\n",
              "// This is roughly an async generator (not supported in the browser yet),\n",
              "// where there are multiple asynchronous steps and the Python side is going\n",
              "// to poll for completion of each step.\n",
              "// This uses a Promise to block the python side on completion of each step,\n",
              "// then passes the result of the previous step as the input to the next step.\n",
              "function _uploadFilesContinue(outputId) {\n",
              "  const outputElement = document.getElementById(outputId);\n",
              "  const steps = outputElement.steps;\n",
              "\n",
              "  const next = steps.next(outputElement.lastPromiseValue);\n",
              "  return Promise.resolve(next.value.promise).then((value) => {\n",
              "    // Cache the last promise value to make it available to the next\n",
              "    // step of the generator.\n",
              "    outputElement.lastPromiseValue = value;\n",
              "    return next.value.response;\n",
              "  });\n",
              "}\n",
              "\n",
              "/**\n",
              " * Generator function which is called between each async step of the upload\n",
              " * process.\n",
              " * @param {string} inputId Element ID of the input file picker element.\n",
              " * @param {string} outputId Element ID of the output display.\n",
              " * @return {!Iterable<!Object>} Iterable of next steps.\n",
              " */\n",
              "function* uploadFilesStep(inputId, outputId) {\n",
              "  const inputElement = document.getElementById(inputId);\n",
              "  inputElement.disabled = false;\n",
              "\n",
              "  const outputElement = document.getElementById(outputId);\n",
              "  outputElement.innerHTML = '';\n",
              "\n",
              "  const pickedPromise = new Promise((resolve) => {\n",
              "    inputElement.addEventListener('change', (e) => {\n",
              "      resolve(e.target.files);\n",
              "    });\n",
              "  });\n",
              "\n",
              "  const cancel = document.createElement('button');\n",
              "  inputElement.parentElement.appendChild(cancel);\n",
              "  cancel.textContent = 'Cancel upload';\n",
              "  const cancelPromise = new Promise((resolve) => {\n",
              "    cancel.onclick = () => {\n",
              "      resolve(null);\n",
              "    };\n",
              "  });\n",
              "\n",
              "  // Wait for the user to pick the files.\n",
              "  const files = yield {\n",
              "    promise: Promise.race([pickedPromise, cancelPromise]),\n",
              "    response: {\n",
              "      action: 'starting',\n",
              "    }\n",
              "  };\n",
              "\n",
              "  cancel.remove();\n",
              "\n",
              "  // Disable the input element since further picks are not allowed.\n",
              "  inputElement.disabled = true;\n",
              "\n",
              "  if (!files) {\n",
              "    return {\n",
              "      response: {\n",
              "        action: 'complete',\n",
              "      }\n",
              "    };\n",
              "  }\n",
              "\n",
              "  for (const file of files) {\n",
              "    const li = document.createElement('li');\n",
              "    li.append(span(file.name, {fontWeight: 'bold'}));\n",
              "    li.append(span(\n",
              "        `(${file.type || 'n/a'}) - ${file.size} bytes, ` +\n",
              "        `last modified: ${\n",
              "            file.lastModifiedDate ? file.lastModifiedDate.toLocaleDateString() :\n",
              "                                    'n/a'} - `));\n",
              "    const percent = span('0% done');\n",
              "    li.appendChild(percent);\n",
              "\n",
              "    outputElement.appendChild(li);\n",
              "\n",
              "    const fileDataPromise = new Promise((resolve) => {\n",
              "      const reader = new FileReader();\n",
              "      reader.onload = (e) => {\n",
              "        resolve(e.target.result);\n",
              "      };\n",
              "      reader.readAsArrayBuffer(file);\n",
              "    });\n",
              "    // Wait for the data to be ready.\n",
              "    let fileData = yield {\n",
              "      promise: fileDataPromise,\n",
              "      response: {\n",
              "        action: 'continue',\n",
              "      }\n",
              "    };\n",
              "\n",
              "    // Use a chunked sending to avoid message size limits. See b/62115660.\n",
              "    let position = 0;\n",
              "    do {\n",
              "      const length = Math.min(fileData.byteLength - position, MAX_PAYLOAD_SIZE);\n",
              "      const chunk = new Uint8Array(fileData, position, length);\n",
              "      position += length;\n",
              "\n",
              "      const base64 = btoa(String.fromCharCode.apply(null, chunk));\n",
              "      yield {\n",
              "        response: {\n",
              "          action: 'append',\n",
              "          file: file.name,\n",
              "          data: base64,\n",
              "        },\n",
              "      };\n",
              "\n",
              "      let percentDone = fileData.byteLength === 0 ?\n",
              "          100 :\n",
              "          Math.round((position / fileData.byteLength) * 100);\n",
              "      percent.textContent = `${percentDone}% done`;\n",
              "\n",
              "    } while (position < fileData.byteLength);\n",
              "  }\n",
              "\n",
              "  // All done.\n",
              "  yield {\n",
              "    response: {\n",
              "      action: 'complete',\n",
              "    }\n",
              "  };\n",
              "}\n",
              "\n",
              "scope.google = scope.google || {};\n",
              "scope.google.colab = scope.google.colab || {};\n",
              "scope.google.colab._files = {\n",
              "  _uploadFiles,\n",
              "  _uploadFilesContinue,\n",
              "};\n",
              "})(self);\n",
              "</script> "
            ]
          },
          "metadata": {}
        },
        {
          "output_type": "stream",
          "name": "stdout",
          "text": [
            "Saving Building Tomorrow_ Innovations in Action-VEED.mp4 to Building Tomorrow_ Innovations in Action-VEED (2).mp4\n",
            "Uploaded file: Building Tomorrow_ Innovations in Action-VEED (2).mp4\n"
          ]
        }
      ]
    },
    {
      "cell_type": "code",
      "source": [
        "from google.genai import Client\n",
        "from google.genai.types import Content, Part\n"
      ],
      "metadata": {
        "id": "d705y268FCF1"
      },
      "execution_count": 33,
      "outputs": []
    },
    {
      "cell_type": "code",
      "source": [
        "\n",
        "model: str = \"gemini-2.0-flash-exp\"\n",
        "client: genai.Client = genai.Client(\n",
        "    api_key =GEMINI_API_KEY,\n",
        ")"
      ],
      "metadata": {
        "id": "5fvaFSOk7OQ-"
      },
      "execution_count": 34,
      "outputs": []
    },
    {
      "cell_type": "code",
      "source": [
        "import time\n",
        "\n",
        "def upload_video(video_file_name):\n",
        "  video_file = client.files.upload(path=\"Building Tomorrow_ Innovations in Action-VEED (1).mp4\")\n",
        "  while video_file.state == \"PROCESSING\":\n",
        "      print('Waiting for video to be processed.')\n",
        "      time.sleep(10)\n",
        "      video_file = client.files.get(name=video_file.name or \"\")\n",
        "\n",
        "  if video_file.state == \"FAILED\":\n",
        "    raise ValueError(video_file.state)\n",
        "  print(f'Video processing complete: ' + (video_file.uri or \"\"))\n",
        "\n",
        "  return video_file\n",
        "\n",
        "pottery_video = upload_video('Pottery.mp4')"
      ],
      "metadata": {
        "colab": {
          "base_uri": "https://localhost:8080/"
        },
        "id": "JBnt-C65yHD2",
        "outputId": "101cfe10-2c14-4f20-8c94-bcb6ccdcaca3"
      },
      "execution_count": 35,
      "outputs": [
        {
          "output_type": "stream",
          "name": "stdout",
          "text": [
            "Waiting for video to be processed.\n",
            "Video processing complete: https://generativelanguage.googleapis.com/v1beta/files/5pfctwxaw31\n"
          ]
        }
      ]
    },
    {
      "cell_type": "code",
      "source": [
        "\n",
        "from IPython.display import display, Audio ,Markdown"
      ],
      "metadata": {
        "id": "OV4LgFis1aa9"
      },
      "execution_count": 18,
      "outputs": []
    },
    {
      "cell_type": "code",
      "source": [
        "def generate_video_captions(video):\n",
        "\n",
        "    # Predefined model and client\n",
        "    model = \"gemini-2.0-flash-exp\"\n",
        "    client: Client = genai.Client(\n",
        "    api_key=GEMINI_API_KEY,\n",
        "    )\n",
        "    prompt = \"\"\"For each scene in this video,\n",
        "                generate captions that describe the scene, along with spoken text.\n",
        "                Place each caption into an object with the timecode of the caption in the video.\n",
        "             \"\"\"\n",
        "\n",
        "    # Generate content using the API\n",
        "    response = client.models.generate_content(\n",
        "        model=model,\n",
        "        contents=[\n",
        "            Content(\n",
        "                role=\"user\",\n",
        "                parts=[\n",
        "                    Part.from_uri(\n",
        "                        file_uri=video.uri or \"\",\n",
        "                        mime_type=video.mime_type or \"\"\n",
        "                    ),\n",
        "                ]\n",
        "            ),\n",
        "            prompt,\n",
        "        ]\n",
        "    )\n",
        "\n",
        "    # Extract and format the response as Markdown\n",
        "    scenes = response.text\n",
        "    return Markdown(scenes)\n"
      ],
      "metadata": {
        "id": "T3lNRcNF1cAt"
      },
      "execution_count": 36,
      "outputs": []
    },
    {
      "cell_type": "code",
      "source": [
        "generate_video_captions(pottery_video)"
      ],
      "metadata": {
        "colab": {
          "base_uri": "https://localhost:8080/",
          "height": 1000
        },
        "id": "9Nb7Bg0-1n5c",
        "outputId": "c7482414-cc60-4d16-ba93-c41588900267"
      },
      "execution_count": 37,
      "outputs": [
        {
          "output_type": "execute_result",
          "data": {
            "text/plain": [
              "<IPython.core.display.Markdown object>"
            ],
            "text/markdown": "Okay, here are the captions for each scene in the video, formatted as requested.\n\n```json\n[\n  {\n    \"timecode\": \"00:00\",\n    \"caption\": \"A view of a city at night, with a red sky and a 3D globe superimposed. Text reads: IN A, and VEED\",\n    \"spoken_text\": \"In a world driven by innovation,\"\n  },\n  {\n    \"timecode\": \"00:01\",\n      \"caption\": \"A view of a city at night, with a red sky and a 3D globe superimposed. Text reads: IN A WORLD DRIVEN BY INNOVATION,\",\n      \"spoken_text\": \"In a world driven by innovation,\"\n  },\n  {\n     \"timecode\": \"00:02\",\n      \"caption\": \"A view of a city at night, with a red sky and a 3D globe superimposed. A sun emoji is displayed in a white box. Text reads: EVERY SUNRISE\",\n    \"spoken_text\": \"every sunrise brings new possibilities.\"\n   },\n  {\n   \"timecode\":\"00:03\",\n    \"caption\": \"A view of a city at night, with a red sky and a 3D globe superimposed. A sun emoji is displayed in a white box. Text reads: EVERY SUNRISE BRINGS NEW POSSIBILITIES.\",\n   \"spoken_text\":\"every sunrise brings new possibilities.\"\n  },\n   {\n      \"timecode\": \"00:05\",\n      \"caption\":\"A view of a city at night, with a red sky and a 3D globe superimposed. A city emoji is displayed in a white box. Text reads: IMAGINE A BUSTLING\",\n       \"spoken_text\":\"Imagine a bustling city where\"\n    },\n    {\n     \"timecode\": \"00:06\",\n     \"caption\": \"A view of a city at night, with a red sky and a 3D globe superimposed. A computer emoji is displayed in a white box. Text reads: LIFE, WHERE\",\n     \"spoken_text\":\"Imagine a bustling city where ideas come to life,\"\n  },\n  {\n    \"timecode\": \"00:09\",\n    \"caption\": \"A woman sits at a desk, writing on papers. A computer emoji is displayed in a white box. Text reads: LIFE, WHERE TECHNOLOGY TRANSFORMS\",\n    \"spoken_text\":\"where technology transforms our daily routines.\"\n  },\n  {\n      \"timecode\": \"00:12\",\n      \"caption\":\"A view of hands typing on a computer keyboard. A building emoji is displayed in a white box. Text reads: INSIDE A SLEEK\",\n      \"spoken_text\":\"Inside a sleek office, a professional is immersed in code,\"\n   },\n  {\n    \"timecode\":\"00:15\",\n    \"caption\":\"A view of hands typing on a computer keyboard. A note and percent symbol emoji is displayed. Text reads: IN CODE, CRAFTING THE DIGITAL\",\n    \"spoken_text\": \"crafting the digital backbone of tomorrow.\"\n  },\n {\n   \"timecode\": \"00:18\",\n   \"caption\": \"A view of hands typing on a computer keyboard. A footprint emoji is displayed. Text reads: EACH\",\n   \"spoken_text\":\"Each keystroke is a step toward breakthroughs that will redefine our existence.\"\n  },\n    {\n      \"timecode\":\"00:23\",\n      \"caption\":\"A view of a robot arm moving. A vial emoji is displayed. Text reads: AS WE SHIFT TO A FUTURISTIC\",\n       \"spoken_text\":\"As we shift to a futuristic lab,\"\n    },\n   {\n     \"timecode\": \"00:25\",\n      \"caption\":\"A view of a robot arm moving. A robot emoji is displayed. Text reads: A ROBOT ARM METICULOUSLY\",\n      \"spoken_text\": \"a robot arm meticulously assembles complex machinery,\"\n     },\n   {\n      \"timecode\": \"00:29\",\n     \"caption\": \"A view of a machine with glowing tubes in it. Text reads: SHOWCASING THE PRECISION OF MODERN ENGINEERING.\",\n     \"spoken_text\":\"showcasing the precision of modern engineering.\"\n    },\n  {\n    \"timecode\":\"00:32\",\n    \"caption\": \"A view of a machine with glowing tubes in it. An up arrow emoji is displayed. Text reads: THESE HIGH TECH TOOLS ARE NOT\",\n    \"spoken_text\":\"These high tech tools are not just gadgets.\"\n  },\n  {\n   \"timecode\":\"00:35\",\n    \"caption\": \"A view of a machine with glowing tubes in it. A house emoji is displayed. Text reads: THEY ARE THE BUILDING\",\n   \"spoken_text\":\"They are the building blocks of a smarter future.\"\n  },\n {\n   \"timecode\":\"00:37\",\n    \"caption\": \"A view of a machine with glowing tubes in it. A city emoji is displayed. Text reads: THE\",\n     \"spoken_text\":\"The city at night glimmers with potential,\"\n },\n  {\n   \"timecode\":\"00:39\",\n    \"caption\":\"A view of a black grate. A city emoji is displayed. Text reads: THE CITY AT NIGHT GLIMMERS WITH POTENTIAL\",\n      \"spoken_text\":\"The city at night glimmers with potential,\"\n  },\n  {\n      \"timecode\":\"00:40\",\n      \"caption\": \"A view of a black grate. Two person emoji is displayed. Text reads: PEOPLE\",\n      \"spoken_text\":\"as people navigate their lives\"\n   },\n  {\n   \"timecode\":\"00:42\",\n   \"caption\": \"A view of a black grate. A globe emoji is displayed. Text reads: SMARTPHONES\",\n    \"spoken_text\":\"with the help of smartphones,\"\n  },\n    {\n    \"timecode\": \"00:43\",\n      \"caption\":\"A view of a black grate. A globe emoji is displayed. Text reads: SMARTPHONES SEAMLESSLY\",\n       \"spoken_text\":\"smartphones seamlessly connected to the world around them.\"\n    },\n    {\n    \"timecode\":\"00:46\",\n       \"caption\":\"A view of a black grate. Text reads: DRONES\",\n      \"spoken_text\":\"Drones zip overhead,\"\n    },\n    {\n       \"timecode\":\"00:47\",\n       \"caption\":\"A view of a black grate. Text reads: DRONES ZIP OVERHEAD, A TESTAMENT\",\n       \"spoken_text\":\"Drones zip overhead, a testament to our relentless pursuit of progress.\"\n    },\n    {\n      \"timecode\":\"00:50\",\n        \"caption\":\"An aerial view of a city square with a church in the center. A graph icon with an upward line is displayed. Text reads: OUR RELENTLESS PURSUIT OF PROGRESS.\",\n      \"spoken_text\":\"This is more than just a vision.\"\n   },\n  {\n     \"timecode\":\"00:52\",\n    \"caption\":\"An aerial view of a city square with a church in the center. A sunglasses emoji is displayed. Text reads: THIS IS MORE THAN JUST A VISION.\",\n    \"spoken_text\": \"This is more than just a vision. It's a reality in the making.\"\n  },\n    {\n     \"timecode\":\"00:55\",\n      \"caption\":\"An aerial view of a city square with a church in the center. A light bulb emoji is displayed. Text reads: EVERY INNOVATION,\",\n       \"spoken_text\":\"Every innovation, every invention is a promise to build a better tomorrow.\"\n   },\n  {\n     \"timecode\":\"01:00\",\n     \"caption\":\"An aerial view of a church building and its grounds. Footprint emojis are displayed. Text reads: PROMISE TO BUILD A BETTER TOMORROW. THE JOURNEY\",\n       \"spoken_text\":\"The journey is just beginning,\"\n     },\n   {\n     \"timecode\":\"01:03\",\n      \"caption\":\"An aerial view of a church building and its grounds. An infinity symbol emoji is displayed. Text reads: THE JOURNEY IS JUST BEGINNING, AND THE POSSIBILITIES ARE LIMITLESS.\",\n      \"spoken_text\":\"and the possibilities are limitless.\"\n   }\n]\n```\n"
          },
          "metadata": {},
          "execution_count": 37
        }
      ]
    }
  ]
}