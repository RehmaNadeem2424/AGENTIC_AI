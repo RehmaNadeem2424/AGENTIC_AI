{
  "nbformat": 4,
  "nbformat_minor": 0,
  "metadata": {
    "colab": {
      "provenance": [],
      "authorship_tag": "ABX9TyON2zUN1vR4FPlFzhLGWu9q",
      "include_colab_link": true
    },
    "kernelspec": {
      "name": "python3",
      "display_name": "Python 3"
    },
    "language_info": {
      "name": "python"
    }
  },
  "cells": [
    {
      "cell_type": "markdown",
      "metadata": {
        "id": "view-in-github",
        "colab_type": "text"
      },
      "source": [
        "<a href=\"https://colab.research.google.com/github/RehmaNadeem2424/AGENTIC_AI/blob/main/PROJECT_NO_1_Langchain.ipynb\" target=\"_parent\"><img src=\"https://colab.research.google.com/assets/colab-badge.svg\" alt=\"Open In Colab\"/></a>"
      ]
    },
    {
      "cell_type": "code",
      "source": [
        "from google.colab import userdata\n",
        "import os\n",
        "GEMINI_API_KEY = userdata.get('GOOGLE_API_KEY_4')\n",
        "os.environ['GEMINI_API_KEY'] = GEMINI_API_KEY"
      ],
      "metadata": {
        "collapsed": true,
        "id": "ps16TB_SfTVd"
      },
      "execution_count": 26,
      "outputs": []
    },
    {
      "cell_type": "code",
      "source": [
        "!pip install --upgrade --quiet langchain_google_genai"
      ],
      "metadata": {
        "collapsed": true,
        "id": "beLQ6HM4f_pG"
      },
      "execution_count": 27,
      "outputs": []
    },
    {
      "cell_type": "code",
      "source": [
        "from langchain_google_genai import ChatGoogleGenerativeAI\n",
        "from langchain.prompts import PromptTemplate\n",
        "from IPython.display import display, Markdown\n"
      ],
      "metadata": {
        "id": "0lnlVOU8g6gt"
      },
      "execution_count": 28,
      "outputs": []
    },
    {
      "cell_type": "code",
      "source": [
        "# Define a first prompt template:\n",
        "first_prompt = PromptTemplate(\n",
        "    input_variables=[\"question\"],\n",
        "    template=\"\"\"\"Explain the topic: {question} clearly.\n",
        "\n",
        "***\"Explain the topic: {question} in detail.\n",
        "\n",
        "***Make it simple and clear for everyone to understand.\n",
        "\n",
        "***Include examples and applications, if relevant.\n",
        "\n",
        "***Avoid complicated language while staying accurate.\"\n",
        "\"\"\",\n",
        ")\n",
        "#Define a second prompt template:\n",
        "second_prompt = PromptTemplate(\n",
        "    input_variables=[\"first_response\"],\n",
        "    template=\"\"\"Based on the following response: \"{first_response}\", create a detailed markdown explanation.\n",
        "The markdown explanation should include:\n",
        "## Introduction\n",
        "A brief overview of the topic.\n",
        "\n",
        "## Key Concepts\n",
        "Main ideas or points related to the topic.\n",
        "\n",
        "## In-depth Analysis\n",
        "A deeper exploration of critical subtopics or concepts.\n",
        "\n",
        "## Examples or Applications\n",
        "Relevant real-world examples, applications, or scenarios.\n",
        "\n",
        "## Conclusion\n",
        "A summary that reinforces the key takeaways.\n",
        "\n",
        "\"\"\"\n",
        ")\n",
        "\n",
        "# Define a third prompt template:\n",
        "third_prompt = PromptTemplate(\n",
        "    input_variables=[\"second_response\"],\n",
        "    template=\"\"\"\n",
        "Convert the following detailed explanation into a well-structured image generation prompt:\n",
        "{second_response}\n",
        "\n",
        "## Organize everything into a markdown file with:\n",
        "\n",
        "## A clear title for the topic.\n",
        "\n",
        "## Sections for Introduction, Key Concepts, and Detailed Analysis.\n",
        "\n",
        "## Write it in a way that is accurate, easy to read, and informative.\n",
        "\n",
        "\"\"\"\n",
        ")\n"
      ],
      "metadata": {
        "id": "2FixA-i8hTBe"
      },
      "execution_count": 47,
      "outputs": []
    },
    {
      "cell_type": "code",
      "source": [
        "# configure the model:\n",
        "llm1 = ChatGoogleGenerativeAI(\n",
        "    api_key = GEMINI_API_KEY,\n",
        "    model = \"gemini-2.0-flash-exp\",\n",
        "    temperature = 0.5\n",
        ")\n",
        "\n",
        "llm2 = ChatGoogleGenerativeAI(\n",
        "    api_key = GEMINI_API_KEY,\n",
        "    model = \"gemini-2.0-flash-exp\",\n",
        "    temperature = 0.7,\n",
        "    max_output = 100\n",
        ")\n",
        "\n",
        "\n",
        "llm3 = ChatGoogleGenerativeAI(\n",
        "    api_key = GEMINI_API_KEY,\n",
        "    model = \"gemini-2.0-flash-exp\",\n",
        "    temperature = 0.1,\n",
        "    max_output = 1000\n",
        ")"
      ],
      "metadata": {
        "id": "Qd5AL-8U20Ge"
      },
      "execution_count": 48,
      "outputs": []
    },
    {
      "cell_type": "code",
      "source": [
        "\n",
        "# Chain for the prompts:\n",
        "first_chain = first_prompt | llm1\n",
        "second_chain = second_prompt | llm2\n",
        "third_chain = third_prompt | llm3"
      ],
      "metadata": {
        "id": "mRHWFAyZi2hW"
      },
      "execution_count": 49,
      "outputs": []
    },
    {
      "cell_type": "code",
      "source": [
        "\n",
        "# First response:\n",
        "question = \"what is agentic ai?\"\n",
        "first_response = first_chain.invoke({\"question\": question})\n",
        "print(\"\\n\\n\\nFirst chain:\\n\\n\")\n",
        "display(Markdown(first_response.content))\n",
        "\n",
        "# Second response:\n",
        "second_response = second_chain.invoke({\"first_response\": first_response.content})\n",
        "print(\"\\n\\n\\nSecond chain:\\n\\n\")\n",
        "display(Markdown(second_response.content))\n",
        "\n",
        "\n",
        "# Third response\n",
        "third_response = third_chain.invoke({\"second_response\": second_response.content})\n",
        "print(\"\\n\\n\\nThird chain:\\n\\n\")\n",
        "display(Markdown(third_response.content))"
      ],
      "metadata": {
        "colab": {
          "base_uri": "https://localhost:8080/",
          "height": 1000
        },
        "id": "dGszkAV05Two",
        "outputId": "25e06f65-6e1e-466d-ca79-43ea48d8a63b"
      },
      "execution_count": 50,
      "outputs": [
        {
          "output_type": "stream",
          "name": "stdout",
          "text": [
            "\n",
            "\n",
            "\n",
            "First chain:\n",
            "\n",
            "\n"
          ]
        },
        {
          "output_type": "display_data",
          "data": {
            "text/plain": [
              "<IPython.core.display.Markdown object>"
            ],
            "text/markdown": "Okay, let's break down \"agentic AI\" in a way that's easy to understand.\n\n**What is Agentic AI? (Simple Explanation)**\n\nImagine an AI that's not just a tool you ask questions to, but more like a helpful assistant that can think for itself and take actions to achieve goals. That's essentially what agentic AI is. \n\nInstead of just passively responding, it can:\n\n*   **Understand a goal:** You tell it what you want to achieve.\n*   **Plan a strategy:** It figures out the steps needed to reach that goal.\n*   **Take actions:** It actually does things, like searching the internet, writing code, or sending emails.\n*   **Learn and adapt:** It gets better over time based on its experiences.\n\nThink of it like a smart robot that can not only understand your instructions but also figure out how to get things done on its own.\n\n**What is Agentic AI? (Detailed Explanation)**\n\nAgentic AI is a more advanced form of artificial intelligence that goes beyond simple task execution. It's characterized by these key features:\n\n*   **Autonomy:** It can operate independently, making decisions and taking actions without constant human intervention.\n*   **Goal-Oriented:** It's designed to achieve specific objectives, whether they're defined by a user or set internally.\n*   **Planning and Reasoning:** It can strategize, break down complex tasks into smaller steps, and reason about the best course of action.\n*   **Interaction with the Environment:** It can interact with the real world or digital environments, gathering information and taking actions.\n*   **Learning and Adaptation:** It can improve its performance over time through experience and feedback.\n\nUnlike traditional AI, which often focuses on a single task (like image recognition or text generation), agentic AI can handle more complex, multi-step processes. It's about creating AI that can act as an intelligent agent, capable of planning, executing, and adapting to achieve goals.\n\n**Key Differences from Traditional AI:**\n\n*   **Traditional AI:** Primarily reacts to inputs; excels at specific tasks.\n*   **Agentic AI:** Actively pursues goals; capable of complex, multi-step processes.\n\n**Examples and Applications:**\n\n*   **Personal Assistant:** Imagine an AI assistant that not only schedules meetings but also researches the attendees, prepares relevant documents, and even books travel arrangements.\n*   **Automated Research:** An agentic AI could be tasked with researching a specific topic, gathering information from various sources, analyzing the data, and writing a report.\n*   **Software Development:** An AI agent could be given a project description and then write, test, and debug code, automating much of the development process.\n*   **Supply Chain Management:** Agentic AI could optimize logistics, predict demand, and make real-time adjustments to ensure efficient operations.\n*   **Financial Trading:** An AI agent could analyze market trends, make investment decisions, and execute trades based on pre-defined strategies.\n*   **Robotics:** Agentic AI can be used to control robots in complex environments, enabling them to navigate, manipulate objects, and achieve specific tasks without constant human guidance.\n\n**Making it Simple for Everyone:**\n\nThink of it this way:\n\n*   **Regular AI:** Like a calculator – you give it numbers, it gives you an answer.\n*   **Agentic AI:** Like a personal assistant – you give it a task, it figures out how to do it and gets it done.\n\n**In short, agentic AI is about creating AI that can be more proactive, intelligent, and capable of handling complex tasks independently, making it a powerful tool for automation and problem-solving.** It's a step towards AI that can truly act as an agent on our behalf.\n"
          },
          "metadata": {}
        },
        {
          "output_type": "stream",
          "name": "stdout",
          "text": [
            "\n",
            "\n",
            "\n",
            "Second chain:\n",
            "\n",
            "\n"
          ]
        },
        {
          "output_type": "display_data",
          "data": {
            "text/plain": [
              "<IPython.core.display.Markdown object>"
            ],
            "text/markdown": "Okay, here's a detailed markdown explanation of \"agentic AI\" based on the provided response:\n\n## Introduction\n\nAgentic AI represents a significant leap in artificial intelligence, moving beyond simple reactive systems to create AI that can proactively pursue goals. Unlike traditional AI, which excels at specific tasks based on given inputs, agentic AI is designed to function more like an intelligent assistant, capable of understanding objectives, planning strategies, taking actions, and learning from its experiences. This shift towards autonomy and goal-oriented behavior has profound implications for automation and problem-solving across numerous fields.\n\n## Key Concepts\n\nThe core concepts of agentic AI can be summarized as follows:\n\n*   **Autonomy:** Agentic AI can operate independently, making decisions and taking actions without constant human oversight. This is a key differentiator from traditional AI, which typically requires direct instructions for each step.\n*   **Goal-Oriented:** It's designed to achieve specific objectives, whether these goals are set by a user or defined internally. This focus on achieving results drives its actions and planning process.\n*   **Planning and Reasoning:** Agentic AI can strategize, breaking down complex tasks into smaller, manageable steps. It reasons about the best course of action to achieve its goals, adapting to various situations.\n*   **Interaction with the Environment:** It can interact with the real world or digital environments, gathering information, taking actions, and modifying its behavior based on feedback.\n*   **Learning and Adaptation:** Agentic AI improves its performance over time through experience and feedback, becoming more efficient and effective in achieving its goals. This ability to learn and adapt is crucial for handling complex, dynamic situations.\n\n## In-depth Analysis\n\nLet's delve deeper into some critical aspects of agentic AI:\n\n*   **The Shift from Reactive to Proactive:** Traditional AI primarily reacts to inputs, performing specific tasks like image recognition or text generation. Agentic AI, on the other hand, actively pursues goals, initiating actions and making decisions independently. This proactive approach allows it to handle more complex, multi-step processes.\n*   **Complex Task Management:** Unlike traditional AI, which often focuses on a single task, agentic AI can manage complex, multi-step processes. It can break down a large goal into smaller, manageable sub-tasks, plan the sequence of actions, and execute them sequentially. This capability is essential for handling real-world problems that require multiple steps and decisions.\n*   **The Role of Planning and Reasoning:**  Agentic AI's ability to plan and reason is crucial for its effectiveness. It can analyze the current situation, identify potential obstacles, and devise strategies to overcome them. This planning process enables it to handle unforeseen circumstances and adapt its approach as needed.\n*   **The Importance of Learning and Adaptation:** The ability to learn from experiences and adapt to changing situations is another critical aspect of agentic AI. Through feedback, it can refine its strategies, improve its performance, and become more efficient over time. This continuous learning process is essential for handling complex, dynamic environments.\n*   **Distinction from Traditional AI:** The core difference between traditional and agentic AI lies in their operational paradigm. Traditional AI reacts to inputs, while agentic AI pursues goals. Traditional AI excels at specific tasks, whereas agentic AI is capable of handling complex, multi-step processes.\n\n## Examples or Applications\n\nHere are some examples illustrating the applications of agentic AI:\n\n*   **Personal Assistant:** An agentic AI personal assistant can not only schedule meetings but also research attendees, prepare relevant documents, and even book travel arrangements, going beyond simple task execution.\n*   **Automated Research:** An AI agent could be tasked with researching a specific topic, gathering information from various sources, analyzing the data, and writing a comprehensive report, thereby automating the research process.\n*   **Software Development:** Agentic AI can automate much of the software development process. It could be given a project description and then write, test, and debug code, reducing the need for extensive human intervention.\n*   **Supply Chain Management:** In supply chain management, agentic AI can optimize logistics, predict demand, and make real-time adjustments to ensure efficient operations, leading to improved resource utilization and reduced costs.\n*   **Financial Trading:** An AI agent can analyze market trends, make investment decisions, and execute trades based on pre-defined strategies, enabling automated trading and potentially higher returns.\n*   **Robotics:** Agentic AI can control robots in complex environments, enabling them to navigate, manipulate objects, and achieve specific tasks without constant human guidance, making robots more versatile and autonomous.\n\n## Conclusion\n\nIn summary, agentic AI represents a significant advancement in artificial intelligence. Its ability to autonomously pursue goals, plan strategies, take actions, and learn from experiences distinguishes it from traditional AI. By moving beyond reactive systems to proactive agents, agentic AI has the potential to transform numerous industries and solve complex problems that were previously intractable. It's a step towards AI that can truly act as an intelligent agent on our behalf, automating tasks, improving efficiency, and enhancing our ability to solve complex challenges. The development and application of agentic AI will undoubtedly shape the future of technology and its impact on society.\n"
          },
          "metadata": {}
        },
        {
          "output_type": "stream",
          "name": "stdout",
          "text": [
            "\n",
            "\n",
            "\n",
            "Third chain:\n",
            "\n",
            "\n"
          ]
        },
        {
          "output_type": "display_data",
          "data": {
            "text/plain": [
              "<IPython.core.display.Markdown object>"
            ],
            "text/markdown": "Okay, here's a structured image generation prompt based on the provided markdown explanation, designed to capture the essence of agentic AI:\n\n**Image Generation Prompt:**\n\n**Overall Style:**  Modern, clean, and slightly futuristic. Use a color palette that suggests intelligence and innovation (e.g., blues, greens, purples, with accents of bright yellow or orange).\n\n**Composition:**  A central, dynamic visual element representing agentic AI, surrounded by smaller elements illustrating its key concepts and applications.\n\n**Central Element:**\n\n*   **Description:** A stylized, abstract representation of an AI agent. This could be a network of interconnected nodes, a glowing orb with internal activity, or a sleek, futuristic humanoid silhouette. The key is to convey intelligence, autonomy, and activity.\n*   **Action:** The central element should appear to be actively processing information, planning, or making decisions. This could be represented by flowing lines, radiating light, or subtle animations.\n\n**Surrounding Elements (arranged in a visually appealing way around the central element):**\n\n*   **Autonomy:** A gear or cog turning independently, or a robot arm moving without direct human control.\n*   **Goal-Oriented:** A target or bullseye with a path leading towards it, or a progress bar filling up.\n*   **Planning and Reasoning:** A flowchart or mind map with interconnected nodes, or a stylized brain with active neural pathways.\n*   **Interaction with the Environment:** A screen displaying data, a robot interacting with objects, or a network of sensors gathering information.\n*   **Learning and Adaptation:** A graph showing an upward trend, or a visual representation of a neural network evolving.\n*   **Applications (small icons or vignettes):**\n    *   A calendar and to-do list for a personal assistant.\n    *   A magnifying glass over a document for automated research.\n    *   Code snippets and a computer screen for software development.\n    *   A supply chain map with moving trucks and packages.\n    *   A stock market chart with upward arrows for financial trading.\n    *   A robot arm performing a task for robotics.\n\n**Text Overlay (optional, use sparingly and clearly):**\n\n*   \"Agentic AI\" as a title or label.\n*   Short keywords like \"Autonomy,\" \"Goals,\" \"Planning,\" \"Learning.\"\n\n**Specific Instructions for the AI Image Generator:**\n\n*   **Focus:** The image should primarily focus on conveying the *concept* of agentic AI, not a specific implementation.\n*   **Abstraction:** Use abstract and stylized elements to represent complex ideas.\n*   **Dynamic:** The image should feel active and engaging, not static.\n*   **Clarity:** The different elements should be easily distinguishable and contribute to the overall message.\n*   **No Humans:** Avoid depicting human figures to emphasize the autonomous nature of agentic AI.\n\n**Example Prompt (for a text-to-image AI):**\n\n\"Create a futuristic and dynamic image representing Agentic AI. The central element should be an abstract representation of an intelligent agent, actively processing information. Surround it with smaller icons and visuals representing autonomy (a gear turning), goal-orientation (a target), planning (a flowchart), environmental interaction (a data screen), and learning (an upward graph). Include small icons for applications like personal assistant, research, software development, supply chain, trading, and robotics. Use a modern, clean style with blues, greens, and purples. Add the text 'Agentic AI' as a title. No humans.\"\n\n**Explanation of Choices:**\n\n*   **Abstraction:**  The prompt emphasizes abstract representations to avoid being too literal and to focus on the core concepts.\n*   **Dynamic Elements:**  The use of flowing lines, radiating light, and active visuals aims to convey the proactive and dynamic nature of agentic AI.\n*   **Visual Metaphors:**  The prompt uses visual metaphors (e.g., gears for autonomy, targets for goals) to make the concepts more accessible.\n*   **Clear Instructions:**  The prompt provides clear instructions on style, composition, and specific elements to guide the AI image generator.\n\nThis prompt should generate an image that is both visually appealing and informative, effectively capturing the essence of agentic AI.\n"
          },
          "metadata": {}
        }
      ]
    }
  ]
}