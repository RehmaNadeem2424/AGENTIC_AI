{
  "nbformat": 4,
  "nbformat_minor": 0,
  "metadata": {
    "colab": {
      "provenance": [],
      "authorship_tag": "ABX9TyOIEakeQvm9ra7f0GxHtw/C",
      "include_colab_link": true
    },
    "kernelspec": {
      "name": "python3",
      "display_name": "Python 3"
    },
    "language_info": {
      "name": "python"
    }
  },
  "cells": [
    {
      "cell_type": "markdown",
      "metadata": {
        "id": "view-in-github",
        "colab_type": "text"
      },
      "source": [
        "<a href=\"https://colab.research.google.com/github/RehmaNadeem2424/AGENTIC_AI/blob/main/LANGCHAIN_Project_no_1.ipynb\" target=\"_parent\"><img src=\"https://colab.research.google.com/assets/colab-badge.svg\" alt=\"Open In Colab\"/></a>"
      ]
    },
    {
      "cell_type": "code",
      "source": [
        "from google.colab import userdata\n",
        "GEMINI_API_KEY = userdata.get('GOOGLE_API_KEY_1')"
      ],
      "metadata": {
        "collapsed": true,
        "id": "ps16TB_SfTVd"
      },
      "execution_count": 22,
      "outputs": []
    },
    {
      "cell_type": "code",
      "source": [
        "!pip install langchain_google_genai"
      ],
      "metadata": {
        "collapsed": true,
        "colab": {
          "base_uri": "https://localhost:8080/"
        },
        "id": "beLQ6HM4f_pG",
        "outputId": "f5f40846-177a-48a1-eeb5-dd7dd3cbcc43"
      },
      "execution_count": 23,
      "outputs": [
        {
          "output_type": "stream",
          "name": "stdout",
          "text": [
            "Requirement already satisfied: langchain_google_genai in /usr/local/lib/python3.10/dist-packages (2.0.7)\n",
            "Requirement already satisfied: filetype<2.0.0,>=1.2.0 in /usr/local/lib/python3.10/dist-packages (from langchain_google_genai) (1.2.0)\n",
            "Requirement already satisfied: google-generativeai<0.9.0,>=0.8.0 in /usr/local/lib/python3.10/dist-packages (from langchain_google_genai) (0.8.3)\n",
            "Requirement already satisfied: langchain-core<0.4,>=0.3.15 in /usr/local/lib/python3.10/dist-packages (from langchain_google_genai) (0.3.25)\n",
            "Requirement already satisfied: pydantic<3,>=2 in /usr/local/lib/python3.10/dist-packages (from langchain_google_genai) (2.10.3)\n",
            "Requirement already satisfied: google-ai-generativelanguage==0.6.10 in /usr/local/lib/python3.10/dist-packages (from google-generativeai<0.9.0,>=0.8.0->langchain_google_genai) (0.6.10)\n",
            "Requirement already satisfied: google-api-core in /usr/local/lib/python3.10/dist-packages (from google-generativeai<0.9.0,>=0.8.0->langchain_google_genai) (2.19.2)\n",
            "Requirement already satisfied: google-api-python-client in /usr/local/lib/python3.10/dist-packages (from google-generativeai<0.9.0,>=0.8.0->langchain_google_genai) (2.155.0)\n",
            "Requirement already satisfied: google-auth>=2.15.0 in /usr/local/lib/python3.10/dist-packages (from google-generativeai<0.9.0,>=0.8.0->langchain_google_genai) (2.27.0)\n",
            "Requirement already satisfied: protobuf in /usr/local/lib/python3.10/dist-packages (from google-generativeai<0.9.0,>=0.8.0->langchain_google_genai) (4.25.5)\n",
            "Requirement already satisfied: tqdm in /usr/local/lib/python3.10/dist-packages (from google-generativeai<0.9.0,>=0.8.0->langchain_google_genai) (4.67.1)\n",
            "Requirement already satisfied: typing-extensions in /usr/local/lib/python3.10/dist-packages (from google-generativeai<0.9.0,>=0.8.0->langchain_google_genai) (4.12.2)\n",
            "Requirement already satisfied: proto-plus<2.0.0dev,>=1.22.3 in /usr/local/lib/python3.10/dist-packages (from google-ai-generativelanguage==0.6.10->google-generativeai<0.9.0,>=0.8.0->langchain_google_genai) (1.25.0)\n",
            "Requirement already satisfied: PyYAML>=5.3 in /usr/local/lib/python3.10/dist-packages (from langchain-core<0.4,>=0.3.15->langchain_google_genai) (6.0.2)\n",
            "Requirement already satisfied: jsonpatch<2.0,>=1.33 in /usr/local/lib/python3.10/dist-packages (from langchain-core<0.4,>=0.3.15->langchain_google_genai) (1.33)\n",
            "Requirement already satisfied: langsmith<0.3,>=0.1.125 in /usr/local/lib/python3.10/dist-packages (from langchain-core<0.4,>=0.3.15->langchain_google_genai) (0.2.3)\n",
            "Requirement already satisfied: packaging<25,>=23.2 in /usr/local/lib/python3.10/dist-packages (from langchain-core<0.4,>=0.3.15->langchain_google_genai) (24.2)\n",
            "Requirement already satisfied: tenacity!=8.4.0,<10.0.0,>=8.1.0 in /usr/local/lib/python3.10/dist-packages (from langchain-core<0.4,>=0.3.15->langchain_google_genai) (9.0.0)\n",
            "Requirement already satisfied: annotated-types>=0.6.0 in /usr/local/lib/python3.10/dist-packages (from pydantic<3,>=2->langchain_google_genai) (0.7.0)\n",
            "Requirement already satisfied: pydantic-core==2.27.1 in /usr/local/lib/python3.10/dist-packages (from pydantic<3,>=2->langchain_google_genai) (2.27.1)\n",
            "Requirement already satisfied: googleapis-common-protos<2.0.dev0,>=1.56.2 in /usr/local/lib/python3.10/dist-packages (from google-api-core->google-generativeai<0.9.0,>=0.8.0->langchain_google_genai) (1.66.0)\n",
            "Requirement already satisfied: requests<3.0.0.dev0,>=2.18.0 in /usr/local/lib/python3.10/dist-packages (from google-api-core->google-generativeai<0.9.0,>=0.8.0->langchain_google_genai) (2.32.3)\n",
            "Requirement already satisfied: cachetools<6.0,>=2.0.0 in /usr/local/lib/python3.10/dist-packages (from google-auth>=2.15.0->google-generativeai<0.9.0,>=0.8.0->langchain_google_genai) (5.5.0)\n",
            "Requirement already satisfied: pyasn1-modules>=0.2.1 in /usr/local/lib/python3.10/dist-packages (from google-auth>=2.15.0->google-generativeai<0.9.0,>=0.8.0->langchain_google_genai) (0.4.1)\n",
            "Requirement already satisfied: rsa<5,>=3.1.4 in /usr/local/lib/python3.10/dist-packages (from google-auth>=2.15.0->google-generativeai<0.9.0,>=0.8.0->langchain_google_genai) (4.9)\n",
            "Requirement already satisfied: jsonpointer>=1.9 in /usr/local/lib/python3.10/dist-packages (from jsonpatch<2.0,>=1.33->langchain-core<0.4,>=0.3.15->langchain_google_genai) (3.0.0)\n",
            "Requirement already satisfied: httpx<1,>=0.23.0 in /usr/local/lib/python3.10/dist-packages (from langsmith<0.3,>=0.1.125->langchain-core<0.4,>=0.3.15->langchain_google_genai) (0.28.1)\n",
            "Requirement already satisfied: orjson<4.0.0,>=3.9.14 in /usr/local/lib/python3.10/dist-packages (from langsmith<0.3,>=0.1.125->langchain-core<0.4,>=0.3.15->langchain_google_genai) (3.10.12)\n",
            "Requirement already satisfied: requests-toolbelt<2.0.0,>=1.0.0 in /usr/local/lib/python3.10/dist-packages (from langsmith<0.3,>=0.1.125->langchain-core<0.4,>=0.3.15->langchain_google_genai) (1.0.0)\n",
            "Requirement already satisfied: httplib2<1.dev0,>=0.19.0 in /usr/local/lib/python3.10/dist-packages (from google-api-python-client->google-generativeai<0.9.0,>=0.8.0->langchain_google_genai) (0.22.0)\n",
            "Requirement already satisfied: google-auth-httplib2<1.0.0,>=0.2.0 in /usr/local/lib/python3.10/dist-packages (from google-api-python-client->google-generativeai<0.9.0,>=0.8.0->langchain_google_genai) (0.2.0)\n",
            "Requirement already satisfied: uritemplate<5,>=3.0.1 in /usr/local/lib/python3.10/dist-packages (from google-api-python-client->google-generativeai<0.9.0,>=0.8.0->langchain_google_genai) (4.1.1)\n",
            "Requirement already satisfied: grpcio<2.0dev,>=1.33.2 in /usr/local/lib/python3.10/dist-packages (from google-api-core[grpc]!=2.0.*,!=2.1.*,!=2.10.*,!=2.2.*,!=2.3.*,!=2.4.*,!=2.5.*,!=2.6.*,!=2.7.*,!=2.8.*,!=2.9.*,<3.0.0dev,>=1.34.1->google-ai-generativelanguage==0.6.10->google-generativeai<0.9.0,>=0.8.0->langchain_google_genai) (1.68.1)\n",
            "Requirement already satisfied: grpcio-status<2.0.dev0,>=1.33.2 in /usr/local/lib/python3.10/dist-packages (from google-api-core[grpc]!=2.0.*,!=2.1.*,!=2.10.*,!=2.2.*,!=2.3.*,!=2.4.*,!=2.5.*,!=2.6.*,!=2.7.*,!=2.8.*,!=2.9.*,<3.0.0dev,>=1.34.1->google-ai-generativelanguage==0.6.10->google-generativeai<0.9.0,>=0.8.0->langchain_google_genai) (1.62.3)\n",
            "Requirement already satisfied: pyparsing!=3.0.0,!=3.0.1,!=3.0.2,!=3.0.3,<4,>=2.4.2 in /usr/local/lib/python3.10/dist-packages (from httplib2<1.dev0,>=0.19.0->google-api-python-client->google-generativeai<0.9.0,>=0.8.0->langchain_google_genai) (3.2.0)\n",
            "Requirement already satisfied: anyio in /usr/local/lib/python3.10/dist-packages (from httpx<1,>=0.23.0->langsmith<0.3,>=0.1.125->langchain-core<0.4,>=0.3.15->langchain_google_genai) (3.7.1)\n",
            "Requirement already satisfied: certifi in /usr/local/lib/python3.10/dist-packages (from httpx<1,>=0.23.0->langsmith<0.3,>=0.1.125->langchain-core<0.4,>=0.3.15->langchain_google_genai) (2024.12.14)\n",
            "Requirement already satisfied: httpcore==1.* in /usr/local/lib/python3.10/dist-packages (from httpx<1,>=0.23.0->langsmith<0.3,>=0.1.125->langchain-core<0.4,>=0.3.15->langchain_google_genai) (1.0.7)\n",
            "Requirement already satisfied: idna in /usr/local/lib/python3.10/dist-packages (from httpx<1,>=0.23.0->langsmith<0.3,>=0.1.125->langchain-core<0.4,>=0.3.15->langchain_google_genai) (3.10)\n",
            "Requirement already satisfied: h11<0.15,>=0.13 in /usr/local/lib/python3.10/dist-packages (from httpcore==1.*->httpx<1,>=0.23.0->langsmith<0.3,>=0.1.125->langchain-core<0.4,>=0.3.15->langchain_google_genai) (0.14.0)\n",
            "Requirement already satisfied: pyasn1<0.7.0,>=0.4.6 in /usr/local/lib/python3.10/dist-packages (from pyasn1-modules>=0.2.1->google-auth>=2.15.0->google-generativeai<0.9.0,>=0.8.0->langchain_google_genai) (0.6.1)\n",
            "Requirement already satisfied: charset-normalizer<4,>=2 in /usr/local/lib/python3.10/dist-packages (from requests<3.0.0.dev0,>=2.18.0->google-api-core->google-generativeai<0.9.0,>=0.8.0->langchain_google_genai) (3.4.0)\n",
            "Requirement already satisfied: urllib3<3,>=1.21.1 in /usr/local/lib/python3.10/dist-packages (from requests<3.0.0.dev0,>=2.18.0->google-api-core->google-generativeai<0.9.0,>=0.8.0->langchain_google_genai) (2.2.3)\n",
            "Requirement already satisfied: sniffio>=1.1 in /usr/local/lib/python3.10/dist-packages (from anyio->httpx<1,>=0.23.0->langsmith<0.3,>=0.1.125->langchain-core<0.4,>=0.3.15->langchain_google_genai) (1.3.1)\n",
            "Requirement already satisfied: exceptiongroup in /usr/local/lib/python3.10/dist-packages (from anyio->httpx<1,>=0.23.0->langsmith<0.3,>=0.1.125->langchain-core<0.4,>=0.3.15->langchain_google_genai) (1.2.2)\n"
          ]
        }
      ]
    },
    {
      "cell_type": "code",
      "source": [
        "from langchain_google_genai import ChatGoogleGenerativeAI\n",
        "from langchain.prompts import PromptTemplate\n"
      ],
      "metadata": {
        "id": "0lnlVOU8g6gt"
      },
      "execution_count": 24,
      "outputs": []
    },
    {
      "cell_type": "code",
      "source": [
        "first_prompt = PromptTemplate(\n",
        "    input_variables=[\"question\"],\n",
        "    template=\"Write a five points about this {question}?\",\n",
        ")\n",
        "\n",
        "second_prompt = PromptTemplate(\n",
        "    input_variables=[\"first_response\"],\n",
        "    template=\"explain each point in detail of this response {first_response}?\",\n",
        ")\n"
      ],
      "metadata": {
        "id": "2FixA-i8hTBe"
      },
      "execution_count": 31,
      "outputs": []
    },
    {
      "cell_type": "code",
      "source": [
        "llm = ChatGoogleGenerativeAI(\n",
        "    api_key = GEMINI_API_KEY,\n",
        "    model = \"gemini-1.5-flash\",\n",
        "    temperature = 0.5\n",
        ")"
      ],
      "metadata": {
        "id": "Qd5AL-8U20Ge"
      },
      "execution_count": 32,
      "outputs": []
    },
    {
      "cell_type": "code",
      "source": [
        "first_chain = first_prompt | llm\n",
        "second_chain = second_prompt | llm"
      ],
      "metadata": {
        "id": "mRHWFAyZi2hW"
      },
      "execution_count": 28,
      "outputs": []
    },
    {
      "cell_type": "code",
      "source": [
        "first_response = first_chain.invoke({\"question\": \"machine learning\"})\n",
        "print(\"first_chain\", first_response.content)\n",
        "\n",
        "second_response = second_chain.invoke({\"response\": first_response.content})\n",
        "print(\"second_chain\", second_response.content)"
      ],
      "metadata": {
        "colab": {
          "base_uri": "https://localhost:8080/"
        },
        "id": "PK74umM73IDM",
        "outputId": "fe9dd4f0-bbd7-4077-df38-c423ef281496"
      },
      "execution_count": 33,
      "outputs": [
        {
          "output_type": "stream",
          "name": "stdout",
          "text": [
            "first_chain Five points about machine learning:\n",
            "\n",
            "1. **Data Dependence:** Machine learning algorithms heavily rely on data.  The quality, quantity, and representation of the data directly impact the accuracy and performance of the resulting model.  More data generally leads to better performance, but the data must also be relevant and representative of the problem being solved.\n",
            "\n",
            "2. **Algorithm Selection:**  Choosing the right algorithm is crucial. Different algorithms are suited to different types of problems (e.g., classification, regression, clustering) and data characteristics (e.g., size, dimensionality, structure).  The selection process often involves experimentation and comparison of various algorithms.\n",
            "\n",
            "3. **Model Evaluation and Tuning:**  Building a machine learning model is an iterative process.  After training, the model's performance needs to be rigorously evaluated using appropriate metrics (e.g., accuracy, precision, recall, F1-score).  Hyperparameters of the algorithm often need tuning to optimize performance.\n",
            "\n",
            "4. **Generalization and Overfitting:** A key challenge is ensuring the model generalizes well to unseen data. Overfitting occurs when a model performs exceptionally well on training data but poorly on new data.  Techniques like cross-validation and regularization are used to mitigate overfitting.\n",
            "\n",
            "5. **Interpretability and Explainability:**  Understanding *why* a model makes a particular prediction is often important, especially in high-stakes applications.  Some machine learning models (e.g., linear regression) are inherently more interpretable than others (e.g., deep neural networks).  Research into explainable AI (XAI) aims to address this challenge.\n",
            "\n",
            "second_chain Let's break down each of the five points about machine learning in detail:\n",
            "\n",
            "**1. Data Dependence:**\n",
            "\n",
            "This point highlights the fundamental truth that machine learning models are only as good as the data they are trained on.  Let's dissect the components:\n",
            "\n",
            "* **Quality:**  \"Garbage in, garbage out\" perfectly applies here.  Noisy data (containing errors or inconsistencies), incomplete data (missing values), or irrelevant data will lead to a poor-performing model.  Data cleaning and preprocessing are crucial steps to ensure data quality.  This includes handling missing values (imputation or removal), dealing with outliers (extreme values that skew results), and correcting inconsistencies in data formatting.\n",
            "\n",
            "* **Quantity:** Generally, more data leads to better model performance.  More data points provide the algorithm with more examples to learn from, allowing it to identify patterns and relationships more accurately.  However, simply having a massive dataset isn't sufficient if the data is of poor quality.\n",
            "\n",
            "* **Representation:** The data must accurately reflect the real-world problem the model is intended to solve.  If the training data is biased (e.g., over-representing one group and under-representing another), the model will likely inherit and amplify that bias.  The data needs to be representative of the diversity and variability expected in real-world scenarios.  For example, a facial recognition system trained primarily on images of light-skinned individuals will perform poorly on images of dark-skinned individuals due to lack of representative data.\n",
            "\n",
            "\n",
            "**2. Algorithm Selection:**\n",
            "\n",
            "Machine learning offers a vast array of algorithms, each with its strengths and weaknesses.  The choice depends on several factors:\n",
            "\n",
            "* **Problem Type:** Different algorithms are designed for different tasks:\n",
            "    * **Classification:** Assigning data points to predefined categories (e.g., spam detection, image classification).  Algorithms include Logistic Regression, Support Vector Machines (SVMs), Decision Trees, and Neural Networks.\n",
            "    * **Regression:** Predicting a continuous value (e.g., house price prediction, stock market forecasting).  Algorithms include Linear Regression, Polynomial Regression, and Support Vector Regression.\n",
            "    * **Clustering:** Grouping similar data points together (e.g., customer segmentation, anomaly detection).  Algorithms include K-Means, DBSCAN, and Hierarchical Clustering.\n",
            "\n",
            "* **Data Characteristics:**  The size, dimensionality (number of features), and structure of the data influence algorithm selection.  Some algorithms are more computationally expensive than others and may not be suitable for large datasets.  Algorithms like linear regression assume linear relationships in the data, while others like decision trees can handle non-linear relationships.\n",
            "\n",
            "* **Experimentation:**  Selecting the best algorithm often involves experimenting with several candidates and comparing their performance using appropriate evaluation metrics.  This is an iterative process.\n",
            "\n",
            "\n",
            "**3. Model Evaluation and Tuning:**\n",
            "\n",
            "Building a machine learning model isn't a one-step process.  It involves iterative refinement:\n",
            "\n",
            "* **Evaluation Metrics:**  These metrics quantify the model's performance.  Examples include:\n",
            "    * **Accuracy:** The percentage of correctly classified instances.\n",
            "    * **Precision:** The proportion of correctly predicted positive instances among all predicted positive instances.\n",
            "    * **Recall:** The proportion of correctly predicted positive instances among all actual positive instances.\n",
            "    * **F1-score:** The harmonic mean of precision and recall.\n",
            "    * **Mean Squared Error (MSE):**  A common metric for regression problems, measuring the average squared difference between predicted and actual values.\n",
            "\n",
            "* **Hyperparameter Tuning:**  Machine learning algorithms have hyperparameters – settings that control the learning process.  These are not learned from the data but are set before training.  Tuning these hyperparameters (e.g., learning rate in neural networks, regularization strength in SVMs) is crucial for optimizing model performance.  Techniques like grid search, random search, and Bayesian optimization are used for hyperparameter tuning.\n",
            "\n",
            "\n",
            "**4. Generalization and Overfitting:**\n",
            "\n",
            "A successful machine learning model needs to generalize well – meaning it should perform well on unseen data, not just the data it was trained on.\n",
            "\n",
            "* **Overfitting:**  This occurs when a model learns the training data too well, including its noise and peculiarities.  It performs exceptionally well on the training data but poorly on new data because it hasn't learned the underlying patterns but rather memorized the training examples.\n",
            "\n",
            "* **Mitigation Techniques:**\n",
            "    * **Cross-validation:**  A technique that splits the data into multiple folds, training the model on some folds and evaluating it on the remaining folds.  This provides a more robust estimate of the model's generalization performance.\n",
            "    * **Regularization:**  Methods that add penalties to the model's complexity, discouraging it from learning overly complex patterns that might overfit the training data.  Examples include L1 and L2 regularization.\n",
            "    * **Data Augmentation:**  Creating more training data from existing data by applying transformations (e.g., rotations, flips for images).  This can improve generalization by exposing the model to more variations of the data.\n",
            "\n",
            "\n",
            "**5. Interpretability and Explainability:**\n",
            "\n",
            "Understanding how a machine learning model arrives at its predictions is often crucial, especially in high-stakes applications like medical diagnosis or loan applications.\n",
            "\n",
            "* **Interpretable Models:**  Some models, like linear regression, are inherently more interpretable.  The coefficients of the linear regression equation directly show the influence of each feature on the prediction.\n",
            "\n",
            "* **Black Box Models:**  Other models, such as deep neural networks, are often considered \"black boxes\" because their internal workings are complex and difficult to understand.  It's hard to pinpoint why a specific prediction was made.\n",
            "\n",
            "* **Explainable AI (XAI):**  This is an active area of research aimed at developing techniques to make the predictions of complex models more understandable.  Methods include:\n",
            "    * **Feature importance analysis:**  Identifying which features had the most significant impact on the prediction.\n",
            "    * **Local interpretable model-agnostic explanations (LIME):**  Approximating the complex model locally with a simpler, more interpretable model.\n",
            "    * **SHapley Additive exPlanations (SHAP):**  Assigning each feature a value representing its contribution to the prediction.\n",
            "\n",
            "\n",
            "Understanding these five points provides a solid foundation for grasping the core concepts and challenges in machine learning.  It's a field that requires careful consideration of data, algorithms, evaluation, and the ethical implications of model interpretability.\n",
            "\n"
          ]
        }
      ]
    }
  ]
}